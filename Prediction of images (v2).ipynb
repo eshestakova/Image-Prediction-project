{
 "cells": [
  {
   "cell_type": "code",
   "execution_count": 11,
   "metadata": {
    "collapsed": true
   },
   "outputs": [],
   "source": [
    "# Загрузим всякие нужные модули\n",
    "from scipy.misc import imread,imresize,imrotate\n",
    "import matplotlib.pyplot as plt\n",
    "%matplotlib inline\n",
    "import os\n",
    "import numpy as np\n"
   ]
  },
  {
   "cell_type": "code",
   "execution_count": 3,
   "metadata": {
    "collapsed": false
   },
   "outputs": [],
   "source": [
    "# Загрузим изображения разнообразных хорьков (по крайней мере то, что нашлось по этому запросу)\n",
    "# Их чуть меньше 10000 штук\n",
    "\n",
    "data_dir = \"./weasels/\"\n",
    "img_names = os.listdir(data_dir)\n",
    "img_paths = list(map(lambda fname: os.path.join(data_dir,fname),img_names))\n",
    "img = imread(img_paths[100])"
   ]
  },
  {
   "cell_type": "code",
   "execution_count": 4,
   "metadata": {
    "collapsed": false
   },
   "outputs": [],
   "source": [
    "# Сожмём все картинки до размера 100*100, чтобы было удобнее с ними работать, \n",
    "# и запишем в numpy-массив\n",
    "\n",
    "standard_size = (100,100)\n",
    "\n",
    "resized_images = []\n",
    "for i in range(len(img_names)) :\n",
    "    resized_images.append(imresize(imread(img_paths[i]), standard_size))\n",
    "\n",
    "resized_images = np.array(resized_images)"
   ]
  },
  {
   "cell_type": "code",
   "execution_count": 5,
   "metadata": {
    "collapsed": false
   },
   "outputs": [
    {
     "data": {
      "text/plain": [
       "(9239, 100, 100, 3)"
      ]
     },
     "execution_count": 5,
     "metadata": {},
     "output_type": "execute_result"
    }
   ],
   "source": [
    "# Проверим, что всё получилось - посмотрим на форму массива :\n",
    "# Первое число, не сильно меньшее 10000 - это количество картинок\n",
    "# Две следующие сотни - это размер каждой картинки\n",
    "# Последнее число - 3. Это три компонента цвета каждого пикселя (RGB - красный, зелёный, синий)\n",
    "\n",
    "resized_images.shape"
   ]
  },
  {
   "cell_type": "code",
   "execution_count": 6,
   "metadata": {
    "collapsed": true
   },
   "outputs": [],
   "source": [
    "# Создадим функцию для вырезания из картинок размером 50*50 центральных квадратов 30*30\n",
    "\n",
    "def get_square(imgs, x0=10,y0=10,w=30,h=30):\n",
    "    squares = imgs[:,y0:y0+h,x0:x0+w]\n",
    "    return squares\n",
    " "
   ]
  },
  {
   "cell_type": "code",
   "execution_count": 7,
   "metadata": {
    "collapsed": true
   },
   "outputs": [],
   "source": [
    "# Создадим функцию для формирования Х (данных, которые будут подаваться программе) \n",
    "# и Y (того, что программа должна предсказывать)\n",
    "# Х - это те самые квадраты 30*30\n",
    "# Y - это \"бортики\" шириной 10 пикселей, оставшиеся после вырезания квадратов (Х) из картинок\n",
    "  \n",
    "def get_XY(imgs,x0,y0,w,h,border_size,colors=3):\n",
    "    \n",
    "    X = get_square(imgs,x0,y0,w,h).reshape([-1,w*h*3])\n",
    "    \n",
    "    parts_x0 = [x0-border_size,x0, x0, x0+w]\n",
    "    parts_y0 = [y0-border_size,y0-border_size, y0+h, y0-border_size]\n",
    "    parts_w = [border_size,w,w,border_size]\n",
    "    parts_h = [h+border_size*2, border_size,border_size,h+2*border_size]\n",
    "    \n",
    "    \n",
    "    y_parts = map(get_square, [imgs]*4, parts_x0,parts_y0,parts_w,parts_h)\n",
    "    \n",
    "    y_parts = map(lambda part: part.reshape(len(imgs),-1),y_parts)\n",
    "    y = np.concatenate(list(y_parts),axis=1)\n",
    "    \n",
    "    return X , y"
   ]
  },
  {
   "cell_type": "code",
   "execution_count": 8,
   "metadata": {
    "collapsed": true
   },
   "outputs": [],
   "source": [
    "# Нам нужно получить выборку побольше, чем имеющиеся 10000 картинок хорьков 100*100\n",
    "# Поэтому мы будем размножать выборку - вырезать из каждой картинки 100*100 по 10 картинок 50*50 из разных мест\n",
    "# И в конце запишем получившиеся X и Y в numpy-массивы\n",
    "\n",
    "X_all = []\n",
    "for i in range(10) :\n",
    "    X_all.append(0)\n",
    "y_all = []\n",
    "for i in range(10) :\n",
    "    y_all.append(0)\n",
    "for i in range(10) :\n",
    "    X_all[i], y_all[i] = get_XY(resized_images, 10+5*i, 10+5*i, 30, 30, border_size=10)\n",
    "X_all = np.array(X_all)\n",
    "y_all = np.array(y_all)\n",
    "X_1 = []\n",
    "y_1 = []\n",
    "for i in range(10) :\n",
    "    for j in range(len(X_all[i])) :\n",
    "        X_1.append(X_all[i][j])\n",
    "        y_1.append(y_all[i][j])\n",
    "X = np.array(X_1)\n",
    "y = np.array(y_1)"
   ]
  },
  {
   "cell_type": "code",
   "execution_count": 9,
   "metadata": {
    "collapsed": false
   },
   "outputs": [],
   "source": [
    "# Разделим все Х и Y на 2 группы - для тренировки алгоритма (train) и его тестирования (test)\n",
    "# На X_train и Y_train наш алгоритм будет обучаться,\n",
    "# то есть узнавать, какие \"бортики\" (Y) должны быть у квадратов (Х)\n",
    "# А по X_test алгоритм должен будет предсказать Y (\"бортики\")\n",
    "# Картинки делятся на train и test пополам случайным образом\n",
    "\n",
    "from sklearn.cross_validation import train_test_split\n",
    "np.random.seed(len(X))\n",
    "X_train,X_test,Y_train,Y_test = train_test_split(X,y,test_size=0.5)"
   ]
  },
  {
   "cell_type": "code",
   "execution_count": 10,
   "metadata": {
    "collapsed": false
   },
   "outputs": [
    {
     "data": {
      "text/plain": [
       "(46195, 2700)"
      ]
     },
     "execution_count": 10,
     "metadata": {},
     "output_type": "execute_result"
    }
   ],
   "source": [
    "# Проверим, что получилось - например, форму тренировочной выборки Х_train.\n",
    "# Первое число - примерно 46000 - количество картинок.\n",
    "# Это половина от числа, получившегося после вырезания из каждой картинки нескольких.\n",
    "# Второе число - 2700 - это размер каждой картинки из Х (30*30) умножить на 3 (цвета в RGB)\n",
    "\n",
    "X_train.shape"
   ]
  },
  {
   "cell_type": "code",
   "execution_count": null,
   "metadata": {
    "collapsed": false,
    "scrolled": true
   },
   "outputs": [],
   "source": [
    "# Ура! Создаём модель линейной регрессии - ту штуку, которая будет всё предсказывать!\n",
    "# Потом обучаем её (fit) на train-выборке!\n",
    "# И, наконец, она предсказывает все Y (\"бортики\") для тестовой выборки!\n",
    "# Это занимает некоторое время, так как выборки относительно большие.\n",
    "\n",
    "from sklearn.linear_model import LinearRegression\n",
    "model = LinearRegression().fit(X_train,Y_train)\n",
    "y_predicted = model.predict(X_test)\n"
   ]
  },
  {
   "cell_type": "code",
   "execution_count": 16,
   "metadata": {
    "collapsed": true
   },
   "outputs": [],
   "source": [
    "# Теперь нам придётся обработать полученные данные, то есть превратить массив в картинку 50*50.\n",
    "# Создадим пустую картинку 50*50 и будем вклеивать в неё центр (Х) и бортики (Y).\n",
    "# Их нужно фигурно вырезать из массива и придавать им вид пикселей нужного цвета.\n",
    "# Функция возвращает многострадальную картинку-результат,\n",
    "# склеенную из данного центра и предсказанных \"бортиков\"\n",
    "\n",
    "def print_predicted_image (Num_of_img, X1, Y1) :\n",
    "\n",
    "    full_picture = np.zeros([50,50,3])\n",
    "\n",
    "\n",
    "    center = X1[Num_of_img]\n",
    "    prediction = Y1[Num_of_img]\n",
    "\n",
    "    offset = 0\n",
    "    left_bar  = prediction[offset:offset+50*10*3]\n",
    "    offset += 50*10*3\n",
    "    upper_bar = prediction[offset:offset+10*30*3]\n",
    "    offset += 10*30*3\n",
    "    lower_bar = prediction[offset:offset+10*30*3]\n",
    "    offset += 10*30*3\n",
    "    right_bar = prediction[offset:offset+50*10*3]\n",
    "\n",
    "    full_picture[:,  :10, :]     = left_bar.reshape([50,10,3])\n",
    "    full_picture[:10,  10:40, :] = upper_bar.reshape([10,30,3])\n",
    "    full_picture[40:,  10:40, :] = lower_bar.reshape([10,30,3])\n",
    "    full_picture[:,  40:, :]     = right_bar.reshape([50,10,3])\n",
    "    full_picture[10:40, 10:40, :] = center.reshape([30,30,3])\n",
    "\n",
    "    return full_picture\n",
    "    "
   ]
  },
  {
   "cell_type": "code",
   "execution_count": 14,
   "metadata": {
    "collapsed": true
   },
   "outputs": [],
   "source": [
    "# Научимся заодно рисовать исходную серединку без бортиков, по которой мы их предсказываем\n",
    "# Просто, чтоб потом сравнить.\n",
    "\n",
    "def print_not_predicted_image (Num_of_img, X1) :\n",
    "\n",
    "    full_picture = np.zeros([50,50,3])\n",
    "    center = X1[Num_of_img]\n",
    "    full_picture[10:40, 10:40, :] = center.reshape([30,30,3])\n",
    "\n",
    "    return full_picture\n"
   ]
  },
  {
   "cell_type": "code",
   "execution_count": 17,
   "metadata": {
    "collapsed": false
   },
   "outputs": [
    {
     "data": {
      "image/png": "[encoded data removed]",
      "text/plain": [
       "<matplotlib.figure.Figure at 0x51486f1b38>"
      ]
     },
     "metadata": {},
     "output_type": "display_data"
    },
    {
     "ename": "NameError",
     "evalue": "name 'y_predicted' is not defined",
     "output_type": "error",
     "traceback": [
      "\u001b[1;31m---------------------------------------------------------------------------\u001b[0m",
      "\u001b[1;31mNameError\u001b[0m                                 Traceback (most recent call last)",
      "\u001b[1;32m<ipython-input-17-e302cbcd21ef>\u001b[0m in \u001b[0;36m<module>\u001b[1;34m()\u001b[0m\n\u001b[0;32m      7\u001b[0m     \u001b[0mplt\u001b[0m\u001b[1;33m.\u001b[0m\u001b[0mimshow\u001b[0m\u001b[1;33m(\u001b[0m\u001b[0mprint_not_predicted_image\u001b[0m \u001b[1;33m(\u001b[0m\u001b[0mi\u001b[0m\u001b[1;33m,\u001b[0m \u001b[0mX_test\u001b[0m\u001b[1;33m)\u001b[0m\u001b[1;33m.\u001b[0m\u001b[0mastype\u001b[0m\u001b[1;33m(\u001b[0m\u001b[1;34m'uint8'\u001b[0m\u001b[1;33m)\u001b[0m\u001b[1;33m)\u001b[0m\u001b[1;33m\u001b[0m\u001b[0m\n\u001b[0;32m      8\u001b[0m     \u001b[0mplt\u001b[0m\u001b[1;33m.\u001b[0m\u001b[0mshow\u001b[0m\u001b[1;33m(\u001b[0m\u001b[1;33m)\u001b[0m\u001b[1;33m\u001b[0m\u001b[0m\n\u001b[1;32m----> 9\u001b[1;33m     \u001b[0mplt\u001b[0m\u001b[1;33m.\u001b[0m\u001b[0mimshow\u001b[0m\u001b[1;33m(\u001b[0m\u001b[0mprint_predicted_image\u001b[0m \u001b[1;33m(\u001b[0m\u001b[0mi\u001b[0m\u001b[1;33m,\u001b[0m \u001b[0mX_test\u001b[0m\u001b[1;33m,\u001b[0m \u001b[0my_predicted\u001b[0m\u001b[1;33m)\u001b[0m\u001b[1;33m.\u001b[0m\u001b[0mastype\u001b[0m\u001b[1;33m(\u001b[0m\u001b[1;34m'uint8'\u001b[0m\u001b[1;33m)\u001b[0m\u001b[1;33m)\u001b[0m\u001b[1;33m\u001b[0m\u001b[0m\n\u001b[0m\u001b[0;32m     10\u001b[0m     \u001b[0mplt\u001b[0m\u001b[1;33m.\u001b[0m\u001b[0mshow\u001b[0m\u001b[1;33m(\u001b[0m\u001b[1;33m)\u001b[0m\u001b[1;33m\u001b[0m\u001b[0m\n\u001b[0;32m     11\u001b[0m     \u001b[0mplt\u001b[0m\u001b[1;33m.\u001b[0m\u001b[0mimshow\u001b[0m\u001b[1;33m(\u001b[0m\u001b[0mprint_predicted_image\u001b[0m \u001b[1;33m(\u001b[0m\u001b[0mi\u001b[0m\u001b[1;33m,\u001b[0m \u001b[0mX_test\u001b[0m\u001b[1;33m,\u001b[0m \u001b[0mY_test\u001b[0m\u001b[1;33m)\u001b[0m\u001b[1;33m.\u001b[0m\u001b[0mastype\u001b[0m\u001b[1;33m(\u001b[0m\u001b[1;34m'uint8'\u001b[0m\u001b[1;33m)\u001b[0m\u001b[1;33m)\u001b[0m\u001b[1;33m\u001b[0m\u001b[0m\n",
      "\u001b[1;31mNameError\u001b[0m: name 'y_predicted' is not defined"
     ]
    }
   ],
   "source": [
    "# И, наконец-то, мы закончили с преобразованием, и можем рисовать результат (первые 10 картинок)\n",
    "# Сначала мы рисуем отдельно серединку, по которой мы предсказываем\n",
    "# Потом, собственно, наш результат - серединку с предсказанными \"бортиками\"\n",
    "# И, наконец, целую исходную картинку, которая бы получилась, будь наш алгоритм идеальным\n",
    "\n",
    "for i in range(200) :\n",
    "    plt.subplot(1,3,1)\n",
    "    plt.imshow(print_not_predicted_image (i, X_test).astype('uint8'))\n",
    "    plt.subplot(1,3,2)\n",
    "    plt.imshow(print_predicted_image (i, X_test, y_predicted).astype('uint8'))\n",
    "    plt.subplot(1,3,3)\n",
    "    plt.imshow(print_predicted_image (i, X_test, Y_test).astype('uint8'))\n",
    "    plt.show()"
   ]
  },
  {
   "cell_type": "code",
   "execution_count": 12,
   "metadata": {
    "collapsed": false
   },
   "outputs": [],
   "source": [
    "# Итак, всё работает!\n",
    "# Правда, картинки получаются довольно размытыми и не всегда правильными.\n",
    "# В том числе, кое-где возникают внезапные кляксы кислотного цвета.\n",
    "# Они вызваны так называемым переобучением : алгоритм слишком \"привыкает\" к данной выборке \n",
    "# и не может хорошо предсказывать на новой.\n",
    "# Чтобы улучшить качество, можно попробовать применять другие алгоритмы\n",
    "# или же попробовать нарастить выборку - вырезать из каждой картинки больше маленьких \n",
    "# или слегка поворачивать их вокруг своей оси и т.п.\n",
    "# "
   ]
  },
  {
   "cell_type": "code",
   "execution_count": 30,
   "metadata": {
    "collapsed": false
   },
   "outputs": [
    {
     "data": {
      "text/plain": [
       "(183, 275, 3)"
      ]
     },
     "execution_count": 30,
     "metadata": {},
     "output_type": "execute_result"
    }
   ],
   "source": []
  },
  {
   "cell_type": "code",
   "execution_count": 30,
   "metadata": {
    "collapsed": false
   },
   "outputs": [
    {
     "data": {
      "text/plain": [
       "(183, 275, 3)"
      ]
     },
     "execution_count": 30,
     "metadata": {},
     "output_type": "execute_result"
    }
   ],
   "source": []
  },
  {
   "cell_type": "markdown",
   "metadata": {
    "collapsed": false
   },
   "source": [
    " "
   ]
  },
  {
   "cell_type": "code",
   "execution_count": null,
   "metadata": {
    "collapsed": false
   },
   "outputs": [],
   "source": []
  },
  {
   "cell_type": "code",
   "execution_count": null,
   "metadata": {
    "collapsed": true
   },
   "outputs": [],
   "source": []
  }
 ],
 "metadata": {
  "kernelspec": {
   "display_name": "Python 3",
   "language": "python",
   "name": "python3"
  },
  "language_info": {
   "codemirror_mode": {
    "name": "ipython",
    "version": 3
   },
   "file_extension": ".py",
   "mimetype": "text/x-python",
   "name": "python",
   "nbconvert_exporter": "python",
   "pygments_lexer": "ipython3",
   "version": "3.5.1"
  }
 },
 "nbformat": 4,
 "nbformat_minor": 0
}
